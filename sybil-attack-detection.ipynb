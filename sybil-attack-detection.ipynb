{
 "cells": [
  {
   "cell_type": "code",
   "execution_count": null,
   "metadata": {
    "_cell_guid": "b1076dfc-b9ad-4769-8c92-a6c4dae69d19",
    "_uuid": "8f2839f25d086af736a60e9eeb907d3b93b6e0e5",
    "execution": {
     "iopub.execute_input": "2023-04-02T14:33:26.549658Z",
     "iopub.status.busy": "2023-04-02T14:33:26.548902Z",
     "iopub.status.idle": "2023-04-02T14:33:27.851919Z",
     "shell.execute_reply": "2023-04-02T14:33:27.852852Z",
     "shell.execute_reply.started": "2023-04-02T14:30:29.780257Z"
    },
    "papermill": {
     "duration": 1.327562,
     "end_time": "2023-04-02T14:33:27.853318",
     "exception": false,
     "start_time": "2023-04-02T14:33:26.525756",
     "status": "completed"
    },
    "tags": []
   },
   "outputs": [],
   "source": [
    "import numpy as np \n",
    "import pandas as pd \n",
    "import matplotlib.pyplot as plt\n",
    "import seaborn as sns\n",
    "import itertools\n",
    "import random\n",
    "import warnings\n",
    "warnings.filterwarnings(\"ignore\", category=FutureWarning)\n",
    "\n",
    "# Model imports\n",
    "from sklearn.ensemble import RandomForestClassifier\n",
    "from sklearn.neighbors import KNeighborsClassifier\n",
    "from sklearn.linear_model import LogisticRegression\n",
    "from sklearn import svm\n",
    "\n",
    "# Processing imports\n",
    "from sklearn.preprocessing import LabelEncoder\n",
    "from sklearn.model_selection import train_test_split\n",
    "from sklearn.model_selection import cross_val_score\n",
    "from sklearn.metrics import mean_absolute_error\n",
    "from sklearn.metrics import accuracy_score\n",
    "from sklearn.metrics import confusion_matrix"
   ]
  },
  {
   "cell_type": "markdown",
   "metadata": {
    "papermill": {
     "duration": 0.018001,
     "end_time": "2023-04-02T14:33:27.890354",
     "exception": false,
     "start_time": "2023-04-02T14:33:27.872353",
     "status": "completed"
    },
    "tags": []
   },
   "source": [
    "Data extraction****\n",
    "here we upload our dataset"
   ]
  },
  {
   "cell_type": "code",
   "execution_count": null,
   "metadata": {
    "_cell_guid": "79c7e3d0-c299-4dcb-8224-4455121ee9b0",
    "_uuid": "d629ff2d2480ee46fbb7e2d37f6b5fab8052498a",
    "execution": {
     "iopub.execute_input": "2023-04-02T14:33:27.930148Z",
     "iopub.status.busy": "2023-04-02T14:33:27.929452Z",
     "iopub.status.idle": "2023-04-02T14:33:28.780490Z",
     "shell.execute_reply": "2023-04-02T14:33:28.781575Z",
     "shell.execute_reply.started": "2023-04-02T14:30:31.032647Z"
    },
    "papermill": {
     "duration": 0.873643,
     "end_time": "2023-04-02T14:33:28.781758",
     "exception": false,
     "start_time": "2023-04-02T14:33:27.908115",
     "status": "completed"
    },
    "tags": []
   },
   "outputs": [],
   "source": [
    "# Data extraction\n",
    "file_path_20_percent = '../Sybil Attack Detection/New folder/nsl-kdd/KDDTrain+_20Percent.txt'\n",
    "file_path_full_training_set = '../Sybil Attack Detection/New folder/KDDTest+.txt'\n",
    "file_path_test = '../Sybil Attack Detection/New folder/KDDTest+.txt' \n",
    "\n",
    "df = pd.read_csv(file_path_full_training_set)\n",
    "test_df = pd.read_csv(file_path_test)"
   ]
  },
  {
   "cell_type": "code",
   "execution_count": null,
   "metadata": {
    "execution": {
     "iopub.execute_input": "2023-04-02T14:33:28.840660Z",
     "iopub.status.busy": "2023-04-02T14:33:28.839408Z",
     "iopub.status.idle": "2023-04-02T14:33:28.869522Z",
     "shell.execute_reply": "2023-04-02T14:33:28.870065Z",
     "shell.execute_reply.started": "2023-04-02T14:30:31.921549Z"
    },
    "papermill": {
     "duration": 0.065884,
     "end_time": "2023-04-02T14:33:28.870227",
     "exception": false,
     "start_time": "2023-04-02T14:33:28.804343",
     "status": "completed"
    },
    "tags": []
   },
   "outputs": [],
   "source": [
    "# Add column names\n",
    "columns = (['duration','protocol_type','service','flag','src_bytes','dst_bytes','land',\n",
    "           'wrong_fragment','urgent','hot','num_failed_logins','logged_in','num_compromised',\n",
    "           'root_shell','su_attempted','num_root','num_file_creations','num_shells',\n",
    "           'num_access_files','num_outbound_cmds','is_host_login','is_guest_login','count',\n",
    "           'srv_count','serror_rate','srv_serror_rate','rerror_rate','srv_rerror_rate',\n",
    "           'same_srv_rate','diff_srv_rate','srv_diff_host_rate','dst_host_count',\n",
    "           'dst_host_srv_count','dst_host_same_srv_rate','dst_host_diff_srv_rate',\n",
    "           'dst_host_same_src_port_rate','dst_host_srv_diff_host_rate','dst_host_serror_rate',\n",
    "           'dst_host_srv_serror_rate','dst_host_rerror_rate','dst_host_srv_rerror_rate',\n",
    "           'attack','level'])\n",
    "\n",
    "df.columns = columns\n",
    "test_df.columns = columns\n",
    "\n",
    "# sanity check\n",
    "df.head(10)"
   ]
  },
  {
   "cell_type": "markdown",
   "metadata": {
    "papermill": {
     "duration": 0.019179,
     "end_time": "2023-04-02T14:33:28.908447",
     "exception": false,
     "start_time": "2023-04-02T14:33:28.889268",
     "status": "completed"
    },
    "tags": []
   },
   "source": [
    "**Data transformations**\n",
    "I adding a column that encodes 'normal' values as 0 and any other value as 1. We will use this as our classifier for a simple binary model that idenfities any attack."
   ]
  },
  {
   "cell_type": "code",
   "execution_count": null,
   "metadata": {
    "execution": {
     "iopub.execute_input": "2023-04-02T14:33:28.950785Z",
     "iopub.status.busy": "2023-04-02T14:33:28.949776Z",
     "iopub.status.idle": "2023-04-02T14:33:29.039916Z",
     "shell.execute_reply": "2023-04-02T14:33:29.039225Z",
     "shell.execute_reply.started": "2023-04-02T14:30:31.962561Z"
    },
    "papermill": {
     "duration": 0.11173,
     "end_time": "2023-04-02T14:33:29.040071",
     "exception": false,
     "start_time": "2023-04-02T14:33:28.928341",
     "status": "completed"
    },
    "tags": []
   },
   "outputs": [],
   "source": [
    "# map normal to 0, all attacks to 1\n",
    "is_attack = df.attack.map(lambda a: 0 if a == 'normal' else 1)\n",
    "test_attack = test_df.attack.map(lambda a: 0 if a == 'normal' else 1)\n",
    "df['attack_flag'] = is_attack\n",
    "test_df['attack_flag'] = test_attack\n",
    "\n",
    "# view the result\n",
    "df.head()"
   ]
  },
  {
   "cell_type": "markdown",
   "metadata": {
    "papermill": {
     "duration": 0.020813,
     "end_time": "2023-04-02T14:33:29.081534",
     "exception": false,
     "start_time": "2023-04-02T14:33:29.060721",
     "status": "completed"
    },
    "tags": []
   },
   "source": [
    "I classify each of the attacks according to attack type for a more granular prediction model."
   ]
  },
  {
   "cell_type": "code",
   "execution_count": null,
   "metadata": {
    "execution": {
     "iopub.execute_input": "2023-04-02T14:33:29.133235Z",
     "iopub.status.busy": "2023-04-02T14:33:29.132536Z",
     "iopub.status.idle": "2023-04-02T14:33:29.288528Z",
     "shell.execute_reply": "2023-04-02T14:33:29.287872Z",
     "shell.execute_reply.started": "2023-04-02T14:30:32.058941Z"
    },
    "papermill": {
     "duration": 0.187502,
     "end_time": "2023-04-02T14:33:29.288645",
     "exception": false,
     "start_time": "2023-04-02T14:33:29.101143",
     "status": "completed"
    },
    "tags": []
   },
   "outputs": [],
   "source": [
    "# lists to hold our attack classifications\n",
    "# Attack type classification\n",
    "dos_attacks = ['apache2','back','land','neptune','mailbomb','pod','processtable','smurf','teardrop','udpstorm','worm']\n",
    "probe_attacks = ['ipsweep','mscan','nmap','portsweep','saint','satan']\n",
    "U2R = ['buffer_overflow','loadmdoule','perl','ps','rootkit','sqlattack','xterm']\n",
    "Sybil = ['ftp_write','guess_passwd','http_tunnel','imap','multihop','named','phf','sendmail',\n",
    "         'snmpgetattack','snmpguess','spy','warezclient','warezmaster','xclock','xsnoop']\n",
    "attack_labels = ['Normal','DoS','Probe','U2R','Sybil']\n",
    "\n",
    "def map_attack(attack):\n",
    "    if attack in dos_attacks:\n",
    "        return 1\n",
    "    elif attack in probe_attacks:\n",
    "        return 2\n",
    "    elif attack in U2R:\n",
    "        return 3\n",
    "    elif attack in Sybil:\n",
    "        return 4\n",
    "    else:\n",
    "        return 0\n",
    "\n",
    "attack_map = df.attack.apply(map_attack)\n",
    "df['attack_map'] = attack_map\n",
    "test_attack_map = test_df.attack.apply(map_attack)\n",
    "test_df['attack_map'] = test_attack_map\n",
    "\n",
    "# view the result\n",
    "df.head()"
   ]
  },
  {
   "cell_type": "markdown",
   "metadata": {
    "papermill": {
     "duration": 0.019749,
     "end_time": "2023-04-02T14:33:29.328238",
     "exception": false,
     "start_time": "2023-04-02T14:33:29.308489",
     "status": "completed"
    },
    "tags": []
   },
   "source": [
    "**Data profiling**\n",
    "i put in table of attack by protocol. "
   ]
  },
  {
   "cell_type": "code",
   "execution_count": null,
   "metadata": {
    "execution": {
     "iopub.execute_input": "2023-04-02T14:33:29.375002Z",
     "iopub.status.busy": "2023-04-02T14:33:29.373835Z",
     "iopub.status.idle": "2023-04-02T14:33:29.441960Z",
     "shell.execute_reply": "2023-04-02T14:33:29.441275Z",
     "shell.execute_reply.started": "2023-04-02T14:30:32.222318Z"
    },
    "papermill": {
     "duration": 0.093558,
     "end_time": "2023-04-02T14:33:29.442086",
     "exception": false,
     "start_time": "2023-04-02T14:33:29.348528",
     "status": "completed"
    },
    "tags": []
   },
   "outputs": [],
   "source": [
    "# attack vs MCS protocols\n",
    "attack_vs_protocol = pd.crosstab(df.attack, df.protocol_type)\n",
    "attack_vs_protocol"
   ]
  },
  {
   "cell_type": "markdown",
   "metadata": {
    "papermill": {
     "duration": 0.020249,
     "end_time": "2023-04-02T14:33:29.482950",
     "exception": false,
     "start_time": "2023-04-02T14:33:29.462701",
     "status": "completed"
    },
    "tags": []
   },
   "source": [
    "**Visual Representation of Dataset**\n",
    " see how things are distributed."
   ]
  },
  {
   "cell_type": "code",
   "execution_count": null,
   "metadata": {
    "execution": {
     "iopub.execute_input": "2023-04-02T14:33:29.540805Z",
     "iopub.status.busy": "2023-04-02T14:33:29.539683Z",
     "iopub.status.idle": "2023-04-02T14:33:29.547758Z",
     "shell.execute_reply": "2023-04-02T14:33:29.548468Z",
     "shell.execute_reply.started": "2023-04-02T14:30:32.291886Z"
    },
    "papermill": {
     "duration": 0.045644,
     "end_time": "2023-04-02T14:33:29.548704",
     "exception": false,
     "start_time": "2023-04-02T14:33:29.503060",
     "status": "completed"
    },
    "tags": []
   },
   "outputs": [],
   "source": [
    "# Visualization helper function\n",
    "def bake_pies(data_list, labels):\n",
    "    list_length = len(data_list)\n",
    "    color_list = sns.color_palette()\n",
    "    color_cycle = itertools.cycle(color_list)\n",
    "    cdict = {}\n",
    "    \n",
    "    fig, axs = plt.subplots(1, list_length, figsize=(18,10), tight_layout=False)\n",
    "    plt.subplots_adjust(wspace=1/list_length)\n",
    "    \n",
    "    for count, data_set in enumerate(data_list): \n",
    "        for num, value in enumerate(np.unique(data_set.index)):\n",
    "            if value not in cdict:\n",
    "                cdict[value] = next(color_cycle)\n",
    "       \n",
    "        wedges,texts = axs[count].pie(data_set,\n",
    "                           colors=[cdict[v] for v in data_set.index])\n",
    "        axs[count].legend(wedges, data_set.index,\n",
    "                           title=\"Flags\",\n",
    "                           loc=\"center left\",\n",
    "                           bbox_to_anchor=(1, 0, 0.5, 1))\n",
    "        axs[count].set_title(labels[count])\n",
    "    return axs   "
   ]
  },
  {
   "cell_type": "code",
   "execution_count": null,
   "metadata": {
    "execution": {
     "iopub.execute_input": "2023-04-02T14:33:29.601495Z",
     "iopub.status.busy": "2023-04-02T14:33:29.600494Z",
     "iopub.status.idle": "2023-04-02T14:33:30.148038Z",
     "shell.execute_reply": "2023-04-02T14:33:30.147463Z",
     "shell.execute_reply.started": "2023-04-02T14:30:32.303774Z"
    },
    "papermill": {
     "duration": 0.577531,
     "end_time": "2023-04-02T14:33:30.148175",
     "exception": false,
     "start_time": "2023-04-02T14:33:29.570644",
     "status": "completed"
    },
    "tags": []
   },
   "outputs": [],
   "source": [
    "# Protocol distribution visualization\n",
    "icmp_attacks = attack_vs_protocol.icmp\n",
    "tcp_attacks = attack_vs_protocol.tcp\n",
    "udp_attacks = attack_vs_protocol.udp\n",
    "bake_pies([icmp_attacks, tcp_attacks, udp_attacks], ['icmp','tcp','udp'])\n",
    "plt.show()"
   ]
  },
  {
   "cell_type": "markdown",
   "metadata": {
    "papermill": {
     "duration": 0.022642,
     "end_time": "2023-04-02T14:33:30.194605",
     "exception": false,
     "start_time": "2023-04-02T14:33:30.171963",
     "status": "completed"
    },
    "tags": []
   },
   "source": [
    "Our monitoring strategy uses a series continuous network protocols and capable of learning subtle distinction between threats and legal ones. Historical information fed the machine learning model classify Sybil and other attacks (ddos, probe, u2r). It helps to identify recurring patterns of Sybil, DDoS, U2R, Probe attacks and locate in long-term traffic chain."
   ]
  },
  {
   "cell_type": "code",
   "execution_count": null,
   "metadata": {
    "execution": {
     "iopub.execute_input": "2023-04-02T14:33:30.243139Z",
     "iopub.status.busy": "2023-04-02T14:33:30.242401Z",
     "iopub.status.idle": "2023-04-02T14:33:30.655521Z",
     "shell.execute_reply": "2023-04-02T14:33:30.656066Z",
     "shell.execute_reply.started": "2023-04-02T14:30:32.841984Z"
    },
    "papermill": {
     "duration": 0.438862,
     "end_time": "2023-04-02T14:33:30.656244",
     "exception": false,
     "start_time": "2023-04-02T14:33:30.217382",
     "status": "completed"
    },
    "tags": []
   },
   "outputs": [],
   "source": [
    "normal_flags = df.loc[df.attack_flag == 0].flag.value_counts()\n",
    "attack_flags = df.loc[df.attack_flag == 1].flag.value_counts()\n",
    "flag_axs = bake_pies([normal_flags, attack_flags], ['normal','attack'])        \n",
    "plt.show()"
   ]
  },
  {
   "cell_type": "code",
   "execution_count": null,
   "metadata": {
    "execution": {
     "iopub.execute_input": "2023-04-02T14:33:30.708496Z",
     "iopub.status.busy": "2023-04-02T14:33:30.707727Z",
     "iopub.status.idle": "2023-04-02T14:33:31.720820Z",
     "shell.execute_reply": "2023-04-02T14:33:31.720242Z",
     "shell.execute_reply.started": "2023-04-02T14:30:33.221913Z"
    },
    "papermill": {
     "duration": 1.040259,
     "end_time": "2023-04-02T14:33:31.720962",
     "exception": false,
     "start_time": "2023-04-02T14:33:30.680703",
     "status": "completed"
    },
    "tags": []
   },
   "outputs": [],
   "source": [
    "# Service distribution visualization\n",
    "normal_services = df.loc[df.attack_flag == 0].service.value_counts()\n",
    "attack_services = df.loc[df.attack_flag == 1].service.value_counts()\n",
    "service_axs = bake_pies([normal_services, attack_services], ['normalMCS','attack'])        \n",
    "plt.show()"
   ]
  },
  {
   "cell_type": "markdown",
   "metadata": {
    "papermill": {
     "duration": 0.028528,
     "end_time": "2023-04-02T14:33:31.777981",
     "exception": false,
     "start_time": "2023-04-02T14:33:31.749453",
     "status": "completed"
    },
    "tags": []
   },
   "source": [
    "Our data show that huge normal traffic is http, our attack traffic is all over the MCS. Sybil ttacks are searching for many different paths into MCS systems; some well traveled and some not.\n",
    "\n"
   ]
  },
  {
   "cell_type": "markdown",
   "metadata": {
    "papermill": {
     "duration": 0.028968,
     "end_time": "2023-04-02T14:33:31.836172",
     "exception": false,
     "start_time": "2023-04-02T14:33:31.807204",
     "status": "completed"
    },
    "tags": []
   },
   "source": [
    "**Feature engineering**\n"
   ]
  },
  {
   "cell_type": "code",
   "execution_count": null,
   "metadata": {
    "execution": {
     "iopub.execute_input": "2023-04-02T14:33:31.897033Z",
     "iopub.status.busy": "2023-04-02T14:33:31.896306Z",
     "iopub.status.idle": "2023-04-02T14:33:32.020828Z",
     "shell.execute_reply": "2023-04-02T14:33:32.021363Z",
     "shell.execute_reply.started": "2023-04-02T14:30:34.173082Z"
    },
    "papermill": {
     "duration": 0.156809,
     "end_time": "2023-04-02T14:33:32.021539",
     "exception": false,
     "start_time": "2023-04-02T14:33:31.864730",
     "status": "completed"
    },
    "tags": []
   },
   "outputs": [],
   "source": [
    "# Feature engineering\n",
    "features_to_encode = ['protocol_type', 'service', 'flag']\n",
    "encoded = pd.get_dummies(df[features_to_encode])\n",
    "test_encoded_base = pd.get_dummies(test_df[features_to_encode])\n",
    "\n",
    "test_index = np.arange(len(test_df.index))\n",
    "column_diffs = list(set(encoded.columns.values)-set(test_encoded_base.columns.values))\n",
    "diff_df = pd.DataFrame(0, index=test_index, columns=column_diffs)\n",
    "column_order = encoded.columns.to_list()\n",
    "test_encoded_temp = test_encoded_base.join(diff_df)\n",
    "test_final = test_encoded_temp[column_order].fillna(0)\n",
    "\n",
    "numeric_features = ['duration', 'src_bytes', 'dst_bytes']\n",
    "to_fit = encoded.join(df[numeric_features])\n",
    "test_set = test_final.join(test_df[numeric_features])\n",
    "\n",
    "# Prepare training and testing sets\n",
    "binary_y = df['attack_flag']\n",
    "multi_y = df['attack_map']\n",
    "test_binary_y = test_df['attack_flag']\n",
    "test_multi_y = test_df['attack_map']"
   ]
  },
  {
   "cell_type": "markdown",
   "metadata": {
    "papermill": {
     "duration": 0.027517,
     "end_time": "2023-04-02T14:33:32.078110",
     "exception": false,
     "start_time": "2023-04-02T14:33:32.050593",
     "status": "completed"
    },
    "tags": []
   },
   "source": [
    "I divide the data into testing and training sets to start: binrary and multi classifications."
   ]
  },
  {
   "cell_type": "code",
   "execution_count": null,
   "metadata": {
    "execution": {
     "iopub.execute_input": "2023-04-02T14:33:32.139400Z",
     "iopub.status.busy": "2023-04-02T14:33:32.138443Z",
     "iopub.status.idle": "2023-04-02T14:33:32.236132Z",
     "shell.execute_reply": "2023-04-02T14:33:32.236624Z",
     "shell.execute_reply.started": "2023-04-02T14:30:34.298755Z"
    },
    "papermill": {
     "duration": 0.129423,
     "end_time": "2023-04-02T14:33:32.236801",
     "exception": false,
     "start_time": "2023-04-02T14:33:32.107378",
     "status": "completed"
    },
    "tags": []
   },
   "outputs": [],
   "source": [
    "# Prepare training and testing sets\n",
    "binary_y = df['attack_flag']\n",
    "multi_y = df['attack_map']\n",
    "test_binary_y = test_df['attack_flag']\n",
    "test_multi_y = test_df['attack_map']\n",
    "\n",
    "binary_train_X, binary_val_X, binary_train_y, binary_val_y = train_test_split(to_fit, binary_y, test_size=0.6)\n",
    "multi_train_X, multi_val_X, multi_train_y, multi_val_y = train_test_split(to_fit, multi_y, test_size=0.6)"
   ]
  },
  {
   "cell_type": "markdown",
   "metadata": {
    "papermill": {
     "duration": 0.028352,
     "end_time": "2023-04-02T14:33:32.293055",
     "exception": false,
     "start_time": "2023-04-02T14:33:32.264703",
     "status": "completed"
    },
    "tags": []
   },
   "source": [
    "**Model fitting**\n",
    "Based on the nature of the data, decision trees are a good starting point for building out predictive models. In this case we'll use a random forest to build and combine multiple trees. "
   ]
  },
  {
   "cell_type": "code",
   "execution_count": null,
   "metadata": {
    "execution": {
     "iopub.execute_input": "2023-04-02T14:33:32.355250Z",
     "iopub.status.busy": "2023-04-02T14:33:32.354539Z",
     "iopub.status.idle": "2023-04-02T14:33:39.155481Z",
     "shell.execute_reply": "2023-04-02T14:33:39.154522Z",
     "shell.execute_reply.started": "2023-04-02T14:30:34.398272Z"
    },
    "papermill": {
     "duration": 6.833421,
     "end_time": "2023-04-02T14:33:39.155646",
     "exception": false,
     "start_time": "2023-04-02T14:33:32.322225",
     "status": "completed"
    },
    "tags": []
   },
   "outputs": [],
   "source": [
    "# Model fitting and evaluation\n",
    "binary_model = RandomForestClassifier()\n",
    "binary_model.fit(binary_train_X, binary_train_y)\n",
    "binary_predictions = binary_model.predict(binary_val_X)\n",
    "base_rf_score = accuracy_score(binary_predictions, binary_val_y)\n",
    "base_rf_score"
   ]
  },
  {
   "cell_type": "markdown",
   "metadata": {
    "papermill": {
     "duration": 0.029515,
     "end_time": "2023-04-02T14:33:39.218986",
     "exception": false,
     "start_time": "2023-04-02T14:33:39.189471",
     "status": "completed"
    },
    "tags": []
   },
   "source": [
    "I got 99% accuracy \n"
   ]
  },
  {
   "cell_type": "markdown",
   "metadata": {
    "papermill": {
     "duration": 0.029817,
     "end_time": "2023-04-02T14:33:39.279641",
     "exception": false,
     "start_time": "2023-04-02T14:33:39.249824",
     "status": "completed"
    },
    "tags": []
   },
   "source": [
    "Comapre with different model using cross_val_score."
   ]
  },
  {
   "cell_type": "code",
   "execution_count": null,
   "metadata": {
    "execution": {
     "iopub.execute_input": "2023-04-02T14:33:39.342588Z",
     "iopub.status.busy": "2023-04-02T14:33:39.341829Z",
     "iopub.status.idle": "2023-04-02T14:35:08.951598Z",
     "shell.execute_reply": "2023-04-02T14:35:08.950843Z",
     "shell.execute_reply.started": "2023-04-02T14:30:40.954668Z"
    },
    "papermill": {
     "duration": 89.64213,
     "end_time": "2023-04-02T14:35:08.951741",
     "exception": false,
     "start_time": "2023-04-02T14:33:39.309611",
     "status": "completed"
    },
    "tags": []
   },
   "outputs": [],
   "source": [
    "import warnings\n",
    "from sklearn.ensemble import RandomForestClassifier\n",
    "from sklearn.linear_model import LogisticRegression\n",
    "from sklearn.svm import SVC\n",
    "from sklearn.tree import DecisionTreeClassifier\n",
    "from sklearn.model_selection import cross_val_score\n",
    "\n",
    "warnings.filterwarnings(\"ignore\", category=FutureWarning)\n",
    "\n",
    "# Define models with simplified configurations\n",
    "models = [\n",
    "    RandomForestClassifier(n_estimators=50),  # Reduce number of estimators\n",
    "    LogisticRegression(max_iter=500),  # Reduce max iterations\n",
    "    SVC(kernel=\"linear\", C=1.0),\n",
    "    DecisionTreeClassifier(max_depth=10),  # Add Decision Tree with limited depth\n",
    "]\n",
    "\n",
    "model_comps = []\n",
    "\n",
    "# Use parallel processing and fewer folds for cross-validation\n",
    "for model in models:\n",
    "    model_name = model.__class__.__name__\n",
    "    accuracies = cross_val_score(\n",
    "        model, binary_train_X, binary_train_y, scoring=\"accuracy\", cv=3, n_jobs=-1\n",
    "    )\n",
    "    for count, accuracy in enumerate(accuracies):\n",
    "        model_comps.append((model_name, count, accuracy))"
   ]
  },
  {
   "cell_type": "code",
   "execution_count": null,
   "metadata": {
    "execution": {
     "iopub.execute_input": "2023-04-02T14:35:09.013515Z",
     "iopub.status.busy": "2023-04-02T14:35:09.012804Z",
     "iopub.status.idle": "2023-04-02T14:35:09.193243Z",
     "shell.execute_reply": "2023-04-02T14:35:09.192647Z",
     "shell.execute_reply.started": "2023-04-02T14:32:07.336343Z"
    },
    "papermill": {
     "duration": 0.212159,
     "end_time": "2023-04-02T14:35:09.193382",
     "exception": false,
     "start_time": "2023-04-02T14:35:08.981223",
     "status": "completed"
    },
    "tags": []
   },
   "outputs": [],
   "source": [
    "result_df = pd.DataFrame(model_comps, columns=['model_name', 'count', 'accuracy'])\n",
    "result_df.pivot(index='count',columns='model_name',values='accuracy').boxplot(rot=45)\n",
    "plt.show()"
   ]
  },
  {
   "cell_type": "markdown",
   "metadata": {
    "papermill": {
     "duration": 0.028793,
     "end_time": "2023-04-02T14:35:09.252224",
     "exception": false,
     "start_time": "2023-04-02T14:35:09.223431",
     "status": "completed"
    },
    "tags": []
   },
   "source": [
    " random forest and K-nearest perform well but logistic give loww accuracy"
   ]
  },
  {
   "cell_type": "markdown",
   "metadata": {
    "papermill": {
     "duration": 0.029189,
     "end_time": "2023-04-02T14:35:09.311222",
     "exception": false,
     "start_time": "2023-04-02T14:35:09.282033",
     "status": "completed"
    },
    "tags": []
   },
   "source": [
    "**Confusion Matrix**\n",
    "Now, Summarizing the performance of a classification algorithm. "
   ]
  },
  {
   "cell_type": "code",
   "execution_count": null,
   "metadata": {
    "execution": {
     "iopub.execute_input": "2023-04-02T14:35:09.378776Z",
     "iopub.status.busy": "2023-04-02T14:35:09.378121Z",
     "iopub.status.idle": "2023-04-02T14:35:09.380858Z",
     "shell.execute_reply": "2023-04-02T14:35:09.381727Z",
     "shell.execute_reply.started": "2023-04-02T14:32:07.523486Z"
    },
    "papermill": {
     "duration": 0.041247,
     "end_time": "2023-04-02T14:35:09.381935",
     "exception": false,
     "start_time": "2023-04-02T14:35:09.340688",
     "status": "completed"
    },
    "tags": []
   },
   "outputs": [],
   "source": [
    "# Confusion Matrix Analysis\n",
    "def add_predictions(data_set, predictions, y):\n",
    "    prediction_series = pd.Series(predictions, index=y.index)\n",
    "    predicted_vs_actual = data_set.assign(predicted=prediction_series)\n",
    "    original_data = predicted_vs_actual.assign(actual=y).dropna()\n",
    "    conf_matrix = confusion_matrix(original_data['actual'], original_data['predicted'])\n",
    "    \n",
    "    base_errors = original_data[original_data['actual'] != original_data['predicted']]\n",
    "    non_zeros = base_errors.loc[:,(base_errors != 0).any(axis=0)]\n",
    "    false_positives = non_zeros.loc[non_zeros.actual==0]\n",
    "    false_negatives = non_zeros.loc[non_zeros.actual==1]\n",
    "\n",
    "    return {\n",
    "        'data': original_data,\n",
    "        'confusion_matrix': conf_matrix,\n",
    "        'errors': base_errors,\n",
    "        'non_zeros': non_zeros,\n",
    "        'false_positives': false_positives,\n",
    "        'false_negatives': false_negatives\n",
    "    }"
   ]
  },
  {
   "cell_type": "code",
   "execution_count": null,
   "metadata": {
    "execution": {
     "iopub.execute_input": "2023-04-02T14:35:09.444562Z",
     "iopub.status.busy": "2023-04-02T14:35:09.443911Z",
     "iopub.status.idle": "2023-04-02T14:35:09.869068Z",
     "shell.execute_reply": "2023-04-02T14:35:09.868474Z",
     "shell.execute_reply.started": "2023-04-02T14:32:07.534956Z"
    },
    "papermill": {
     "duration": 0.45749,
     "end_time": "2023-04-02T14:35:09.869204",
     "exception": false,
     "start_time": "2023-04-02T14:35:09.411714",
     "status": "completed"
    },
    "tags": []
   },
   "outputs": [],
   "source": [
    "binary_prediction_data = add_predictions(df, binary_predictions, binary_val_y)\n",
    "\n",
    "plt.figure(figsize=(8, 6))\n",
    "sns.heatmap(data=binary_prediction_data['confusion_matrix'],\n",
    "            xticklabels=['Predicted Normal','Predicted Attack'],\n",
    "            yticklabels=['Actual Normal','Actual Attack'],\n",
    "            cmap=\"YlGnBu\",\n",
    "            fmt='d',\n",
    "            annot=True)\n",
    "plt.title('Random Forest Confusion Matrix')\n",
    "plt.show()"
   ]
  },
  {
   "cell_type": "code",
   "execution_count": null,
   "metadata": {},
   "outputs": [],
   "source": [
    "# SVM specific analysis\n",
    "svm_model = svm.SVC(kernel='linear', C=1.0)\n",
    "svm_model.fit(binary_train_X, binary_train_y)\n",
    "svm_predictions = svm_model.predict(binary_val_X)\n",
    "svm_score = accuracy_score(svm_predictions, binary_val_y)\n",
    "\n",
    "svm_prediction_data = add_predictions(df, svm_predictions, binary_val_y)\n",
    "\n",
    "plt.figure(figsize=(8, 6))\n",
    "sns.heatmap(data=svm_prediction_data['confusion_matrix'],\n",
    "            xticklabels=['Predicted Normal', 'Predicted Attack'],\n",
    "            yticklabels=['Actual Normal', 'Actual Attack'],\n",
    "            cmap=\"YlGnBu\",\n",
    "            fmt='d',\n",
    "            annot=True)\n",
    "plt.title('SVM Confusion Matrix')\n",
    "plt.show()"
   ]
  }
 ],
 "metadata": {
  "kernelspec": {
   "display_name": "Python 3",
   "language": "python",
   "name": "python3"
  },
  "language_info": {
   "codemirror_mode": {
    "name": "ipython",
    "version": 3
   },
   "file_extension": ".py",
   "mimetype": "text/x-python",
   "name": "python",
   "nbconvert_exporter": "python",
   "pygments_lexer": "ipython3",
   "version": "3.8.10"
  },
  "papermill": {
   "duration": 108.092161,
   "end_time": "2023-04-02T14:35:10.006767",
   "environment_variables": {},
   "exception": null,
   "input_path": "__notebook__.ipynb",
   "output_path": "__notebook__.ipynb",
   "parameters": {},
   "start_time": "2023-04-02T14:33:21.914606",
   "version": "2.1.0"
  }
 },
 "nbformat": 4,
 "nbformat_minor": 4
}
